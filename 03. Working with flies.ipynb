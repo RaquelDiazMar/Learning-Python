{
 "cells": [
  {
   "cell_type": "markdown",
   "metadata": {},
   "source": [
    "### Read and write files using the built-in Python file methods"
   ]
  },
  {
   "cell_type": "code",
   "execution_count": 1,
   "metadata": {},
   "outputs": [],
   "source": [
    "# Open a file for writing and create it if it doesn't exist \"w+\"\n",
    "f = open(\"textfile.txt\",\"w+\")\n",
    "\n",
    "# write some lines of data to the file\n",
    "for i in range(10):\n",
    "    f.write(\"This is line %d\\r\\n\" % (i+1))\n",
    "\n",
    "# close the file when done\n",
    "f.close()"
   ]
  },
  {
   "cell_type": "code",
   "execution_count": 2,
   "metadata": {},
   "outputs": [],
   "source": [
    "# Open the file for appending text to the end\n",
    "f = open(\"textfile.txt\",\"a+\")\n",
    "\n",
    "for i in range(10):\n",
    "    f.write(\"This is line %d\\r\\n\" % (i+11))\n",
    "\n",
    "f.close()"
   ]
  },
  {
   "cell_type": "code",
   "execution_count": 3,
   "metadata": {},
   "outputs": [
    {
     "name": "stdout",
     "output_type": "stream",
     "text": [
      "This is line 1\n",
      "\n",
      "This is line 2\n",
      "\n",
      "This is line 3\n",
      "\n",
      "This is line 4\n",
      "\n",
      "This is line 5\n",
      "\n",
      "This is line 6\n",
      "\n",
      "This is line 7\n",
      "\n",
      "This is line 8\n",
      "\n",
      "This is line 9\n",
      "\n",
      "This is line 10\n",
      "\n",
      "This is line 11\n",
      "\n",
      "This is line 12\n",
      "\n",
      "This is line 13\n",
      "\n",
      "This is line 14\n",
      "\n",
      "This is line 15\n",
      "\n",
      "This is line 16\n",
      "\n",
      "This is line 17\n",
      "\n",
      "This is line 18\n",
      "\n",
      "This is line 19\n",
      "\n",
      "This is line 20\n",
      "\n",
      "\n"
     ]
    }
   ],
   "source": [
    "# Open the file back up and read the contents\n",
    "f = open(\"textfile.txt\",\"r\")\n",
    "if f.mode == 'r': # check to make sure that the file was opened, use the read() function to read the entire file\n",
    "    contents = f.read()\n",
    "    print (contents)"
   ]
  },
  {
   "cell_type": "code",
   "execution_count": 4,
   "metadata": {},
   "outputs": [
    {
     "name": "stdout",
     "output_type": "stream",
     "text": [
      "This is line 1\n",
      "\n",
      "\n",
      "\n",
      "This is line 2\n",
      "\n",
      "\n",
      "\n",
      "This is line 3\n",
      "\n",
      "\n",
      "\n",
      "This is line 4\n",
      "\n",
      "\n",
      "\n",
      "This is line 5\n",
      "\n",
      "\n",
      "\n",
      "This is line 6\n",
      "\n",
      "\n",
      "\n",
      "This is line 7\n",
      "\n",
      "\n",
      "\n",
      "This is line 8\n",
      "\n",
      "\n",
      "\n",
      "This is line 9\n",
      "\n",
      "\n",
      "\n",
      "This is line 10\n",
      "\n",
      "\n",
      "\n",
      "This is line 11\n",
      "\n",
      "\n",
      "\n",
      "This is line 12\n",
      "\n",
      "\n",
      "\n",
      "This is line 13\n",
      "\n",
      "\n",
      "\n",
      "This is line 14\n",
      "\n",
      "\n",
      "\n",
      "This is line 15\n",
      "\n",
      "\n",
      "\n",
      "This is line 16\n",
      "\n",
      "\n",
      "\n",
      "This is line 17\n",
      "\n",
      "\n",
      "\n",
      "This is line 18\n",
      "\n",
      "\n",
      "\n",
      "This is line 19\n",
      "\n",
      "\n",
      "\n",
      "This is line 20\n",
      "\n",
      "\n",
      "\n"
     ]
    }
   ],
   "source": [
    "f = open(\"textfile.txt\",\"r\")\n",
    "if f.mode == 'r': \n",
    "    fl = f.readlines() # readlines reads the individual lines into a list\n",
    "    for x in fl:\n",
    "      print (x)"
   ]
  },
  {
   "cell_type": "markdown",
   "metadata": {},
   "source": [
    "### Working with OS path utilities"
   ]
  },
  {
   "cell_type": "code",
   "execution_count": 5,
   "metadata": {},
   "outputs": [],
   "source": [
    "import os\n",
    "from os import path\n",
    "import datetime\n",
    "from datetime import date, time, timedelta\n",
    "import time"
   ]
  },
  {
   "cell_type": "code",
   "execution_count": 6,
   "metadata": {},
   "outputs": [
    {
     "name": "stdout",
     "output_type": "stream",
     "text": [
      "nt\n"
     ]
    }
   ],
   "source": [
    "# Print the name of the OS\n",
    "print (os.name)"
   ]
  },
  {
   "cell_type": "code",
   "execution_count": 7,
   "metadata": {},
   "outputs": [
    {
     "name": "stdout",
     "output_type": "stream",
     "text": [
      "Item exists: True\n",
      "Item is a file: True\n",
      "Item is a directory: False\n"
     ]
    }
   ],
   "source": [
    "# Check for item existence and type\n",
    "print (\"Item exists: \" + str(path.exists(\"textfile.txt\")))\n",
    "print (\"Item is a file: \" + str(path.isfile(\"textfile.txt\")))\n",
    "print (\"Item is a directory: \" + str(path.isdir(\"textfile.txt\")))"
   ]
  },
  {
   "cell_type": "code",
   "execution_count": 8,
   "metadata": {},
   "outputs": [
    {
     "name": "stdout",
     "output_type": "stream",
     "text": [
      "Item's path: C:\\Users\\34677\\Documents\\GitHub\\Learning Python\\textfile.txt\n",
      "Item's path and name: ('C:\\\\Users\\\\34677\\\\Documents\\\\GitHub\\\\Learning Python', 'textfile.txt')\n"
     ]
    }
   ],
   "source": [
    "# Work with file paths\n",
    "print (\"Item's path: \" + str(path.realpath(\"textfile.txt\")))\n",
    "print (\"Item's path and name: \" + str(path.split(path.realpath(\"textfile.txt\"))))"
   ]
  },
  {
   "cell_type": "code",
   "execution_count": 9,
   "metadata": {},
   "outputs": [
    {
     "name": "stdout",
     "output_type": "stream",
     "text": [
      "Sat Aug 22 16:59:53 2020\n",
      "2020-08-22 16:59:53.219165\n"
     ]
    }
   ],
   "source": [
    "# Get the modification time\n",
    "t = time.ctime(path.getmtime(\"textfile.txt\"))\n",
    "print (t)\n",
    "print (datetime.datetime.fromtimestamp(path.getmtime(\"textfile.txt\")))"
   ]
  },
  {
   "cell_type": "code",
   "execution_count": 10,
   "metadata": {},
   "outputs": [
    {
     "name": "stdout",
     "output_type": "stream",
     "text": [
      "It has been 0:00:00.053855 since the file was modified\n",
      "Or, 0.053855 seconds\n"
     ]
    }
   ],
   "source": [
    "# Calculate how long ago the item was modified\n",
    "td= datetime.datetime.now() - datetime.datetime.fromtimestamp(path.getmtime(\"textfile.txt\"))\n",
    "print (\"It has been \" + str(td) + \" since the file was modified\")\n",
    "print (\"Or, \" + str(td.total_seconds()) + \" seconds\")"
   ]
  },
  {
   "cell_type": "markdown",
   "metadata": {},
   "source": [
    "### Using file system shell methods"
   ]
  },
  {
   "cell_type": "code",
   "execution_count": 11,
   "metadata": {},
   "outputs": [],
   "source": [
    "import shutil\n",
    "from shutil import make_archive\n",
    "from zipfile import ZipFile"
   ]
  },
  {
   "cell_type": "code",
   "execution_count": 15,
   "metadata": {},
   "outputs": [],
   "source": [
    "# get the path to the file in the current directory\n",
    "src = path.realpath(\"textfile.txt\");"
   ]
  },
  {
   "cell_type": "code",
   "execution_count": 16,
   "metadata": {},
   "outputs": [],
   "source": [
    "# make a backup copy by appending \"bak\" to the name\n",
    "dst = src + \".bak\" "
   ]
  },
  {
   "cell_type": "code",
   "execution_count": 17,
   "metadata": {},
   "outputs": [
    {
     "data": {
      "text/plain": [
       "'C:\\\\Users\\\\34677\\\\Documents\\\\GitHub\\\\Learning Python\\\\textfile.txt.bak'"
      ]
     },
     "execution_count": 17,
     "metadata": {},
     "output_type": "execute_result"
    }
   ],
   "source": [
    "# use the shell to make a copy of the file\n",
    "shutil.copy(src,dst)  "
   ]
  },
  {
   "cell_type": "code",
   "execution_count": 18,
   "metadata": {},
   "outputs": [],
   "source": [
    "# copy over the permissions, modification times, and other info\n",
    "shutil.copystat(src, dst)"
   ]
  },
  {
   "cell_type": "code",
   "execution_count": null,
   "metadata": {},
   "outputs": [],
   "source": [
    "# rename the original file\n",
    "os.rename(\"textfile.txt\", \"newfile.txt\")"
   ]
  },
  {
   "cell_type": "code",
   "execution_count": 20,
   "metadata": {},
   "outputs": [
    {
     "data": {
      "text/plain": [
       "'C:\\\\Users\\\\34677\\\\Documents\\\\GitHub\\\\Learning Python\\\\archive.zip'"
      ]
     },
     "execution_count": 20,
     "metadata": {},
     "output_type": "execute_result"
    }
   ],
   "source": [
    "# put things into a ZIP archive\n",
    "root_dir,tail = path.split(src)\n",
    "shutil.make_archive(\"archive\", \"zip\", root_dir)"
   ]
  },
  {
   "cell_type": "code",
   "execution_count": 21,
   "metadata": {},
   "outputs": [],
   "source": [
    "# control over ZIP files\n",
    "with ZipFile(\"testzip.zip\",\"w\") as newzip:\n",
    "    newzip.write(\"textfile.txt\")\n",
    "    newzip.write(\"textfile.txt.bak\")"
   ]
  }
 ],
 "metadata": {
  "kernelspec": {
   "display_name": "Python 3",
   "language": "python",
   "name": "python3"
  },
  "language_info": {
   "codemirror_mode": {
    "name": "ipython",
    "version": 3
   },
   "file_extension": ".py",
   "mimetype": "text/x-python",
   "name": "python",
   "nbconvert_exporter": "python",
   "pygments_lexer": "ipython3",
   "version": "3.7.6"
  }
 },
 "nbformat": 4,
 "nbformat_minor": 4
}
