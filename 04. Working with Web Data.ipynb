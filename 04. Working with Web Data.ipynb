{
 "cells": [
  {
   "cell_type": "markdown",
   "metadata": {},
   "source": [
    "### Fetching internet data"
   ]
  },
  {
   "cell_type": "code",
   "execution_count": 1,
   "metadata": {},
   "outputs": [],
   "source": [
    "import urllib.request "
   ]
  },
  {
   "cell_type": "code",
   "execution_count": 2,
   "metadata": {
    "scrolled": false
   },
   "outputs": [
    {
     "name": "stdout",
     "output_type": "stream",
     "text": [
      "result code: 200\n",
      "\n",
      "b'<!doctype html><html itemscope=\"\" itemtype=\"http://schema.org/WebPage\" lang=\"es\"><head><meta content=\"Google.es permite acceder a la informaci\\xf3n mundial en castellano, catal\\xe1n, gallego, euskara e ingl\\xe9s.\" name=\"description\"><meta content=\"noodp\" name=\"robots\"><meta content=\"text/html; charset=UTF-8\" http-equiv=\"Content-Type\"><meta content=\"/images/branding/googleg/1x/googleg_standard_color_128dp.png\" itemprop=\"image\"><title>Google</title><script nonce=\"OCO6AdzquWbCtZZBzmIdSA==\">(function(){window.google={kEI:\\'CEFCX5z4DYu7UMOXjZgD\\',kEXPI:\\'0,202123,3,4,32,4,1151580,5663,730,224,755,4349,207,3204,10,1226,364,1499,611,206,383,246,5,1354,648,371,281,2799,51,264,3,1050,90,173,21,865,28,88,93,6,352,597,105,33,127,7,111,34,19,1119550,1197661,65,550,328991,13677,4855,32691,15248,867,17444,11240,9188,8384,4858,1362,9291,3024,4743,11033,1808,4020,978,7931,5297,2054,920,873,1217,2975,6430,14527,4517,2778,921,2275,8,85,2711,1593,1279,2212,530,149,1103,840,517,1466,4,53,157,4100,312,1137,2,2669,2023,545,1232,520,1947,245,1984,95,326,1284,16,2927,2247,1812,1787,3229,2843,7,5599,469,6286,4455,641,2450,3684,1743,4928,108,1456,1951,908,2,941,2614,2397,9647,1098,3,346,230,970,865,2551,2073,149,189,3312,2489,2252,3989,1744,4,1528,281,2,2021,217,1019,271,874,405,1860,1817,576,94,1697,52,75,4,1242,95,961,463,460,117,1438,4067,153,2112,86,3,3280,1426,69,1667,366,386,196,2811,1086,150,68,105,344,690,1542,426,416,76,53,860,768,1733,149,109,79,320,198,25,887,254,310,464,225,377,10,44,30,1303,529,230,1708,222,153,503,659,23,333,1424,650,340,52,535,87,162,990,55,946,255,255,821,1,319,70,11,992,345,505,12,1445,2,70,2,412,33,117,120,210,336,958,359,48,68,2,94,1,1387,157,1335,393,1264,350,371,621,293,460,659,109,347,298,385,4,6,423,1,227,1,25,125,341,9,5769957,3375,8798540,549,333,444,1,2,80,1,900,896,1,9,2,2551,1,748,141,59,736,563,1,4265,1,1,2,1017,9,305,3299,248,527,2,19,27,19,30,1,7,22,62,1,12,4,1,4,69,3501390,20458660,53,2704777\\',kBL:\\'-bmB\\'};google.sn=\\'webhp\\';google.kHL=\\'es\\';})();(function(){google.lc=[];google.li=0;google.getEI=function(a){for(var c;a&&(!a.getAttribute||!(c=a.getAttribute(\"eid\")));)a=a.parentNode;return c||google.kEI};google.getLEI=function(a){for(var c=null;a&&(!a.getAttribute||!(c=a.getAttribute(\"leid\")));)a=a.parentNode;return c};google.ml=function(){return null};google.time=function(){return Date.now()};google.log=function(a,c,b,d,g){if(b=google.logUrl(a,c,b,d,g)){a=new Image;var e=google.lc,f=google.li;e[f]=a;a.onerror=a.onload=a.onabort=function(){delete e[f]};google.vel&&google.vel.lu&&google.vel.lu(b);a.src=b;google.li=f+1}};google.logUrl=function(a,c,b,d,g){var e=\"\",f=google.ls||\"\";b||-1!=c.search(\"&ei=\")||(e=\"&ei=\"+google.getEI(d),-1==c.search(\"&lei=\")&&(d=google.getLEI(d))&&(e+=\"&lei=\"+d));d=\"\";!b&&google.cshid&&-1==c.search(\"&cshid=\")&&\"slh\"!=a&&(d=\"&cshid=\"+google.cshid);b=b||\"/\"+(g||\"gen_204\")+\"?atyp=i&ct=\"+a+\"&cad=\"+c+e+f+\"&zx=\"+google.time()+d;/^http:/i.test(b)&&\"https:\"==window.location.protocol&&(google.ml(Error(\"a\"),!1,{src:b,glmm:1}),b=\"\");return b};}).call(this);(function(){google.y={};google.x=function(a,b){if(a)var c=a.id;else{do c=Math.random();while(google.y[c])}google.y[c]=[a,b];return!1};google.lm=[];google.plm=function(a){google.lm.push.apply(google.lm,a)};google.lq=[];google.load=function(a,b,c){google.lq.push([[a],b,c])};google.loadAll=function(a,b){google.lq.push([a,b])};}).call(this);google.f={};(function(){\\ndocument.documentElement.addEventListener(\"submit\",function(b){var a;if(a=b.target){var c=a.getAttribute(\"data-submitfalse\");a=\"1\"==c||\"q\"==c&&!a.elements.q.value?!0:!1}else a=!1;a&&(b.preventDefault(),b.stopPropagation())},!0);document.documentElement.addEventListener(\"click\",function(b){var a;a:{for(a=b.target;a&&a!=document.documentElement;a=a.parentElement)if(\"A\"==a.tagName){a=\"1\"==a.getAttribute(\"data-nohref\");break a}a=!1}a&&b.preventDefault()},!0);}).call(this);\\nvar a=window.location,b=a.href.indexOf(\"#\");if(0<=b){var c=a.href.substring(b+1);/(^|&)q=/.test(c)&&-1==c.indexOf(\"#\")&&a.replace(\"/search?\"+c.replace(/(^|&)fp=[^&]*/g,\"\")+\"&cad=h\")};</script><style>#gbar,#guser{font-size:13px;padding-top:1px !important;}#gbar{height:22px}#guser{padding-bottom:7px !important;text-align:right}.gbh,.gbd{border-top:1px solid #c9d7f1;font-size:1px}.gbh{height:0;position:absolute;top:24px;width:100%}@media all{.gb1{height:22px;margin-right:.5em;vertical-align:top}#gbar{float:left}}a.gb1,a.gb4{text-decoration:underline !important}a.gb1,a.gb4{color:#00c !important}.gbi .gb4{color:#dd8e27 !important}.gbf .gb4{color:#900 !important}\\n</style><style>body,td,a,p,.h{font-family:arial,sans-serif}body{margin:0;overflow-y:scroll}#gog{padding:3px 8px 0}td{line-height:.8em}.gac_m td{line-height:17px}form{margin-bottom:20px}.h{color:#36c}.q{color:#00c}em{font-weight:bold;font-style:normal}.lst{height:25px;width:496px}.gsfi,.lst{font:18px arial,sans-serif}.gsfs{font:17px arial,sans-serif}.ds{display:inline-box;display:inline-block;margin:3px 0 4px;margin-left:4px}input{font-family:inherit}body{background:#fff;color:#000}a{color:#11c;text-decoration:none}a:hover,a:active{text-decoration:underline}.fl a{color:#36c}a:visited{color:#551a8b}.sblc{padding-top:5px}.sblc a{display:block;margin:2px 0;margin-left:13px;font-size:11px}.lsbb{background:#eee;border:solid 1px;border-color:#ccc #999 #999 #ccc;height:30px}.lsbb{display:block}#fll a{display:inline-block;margin:0 12px}.lsb{background:url(/images/nav_logo229.png) 0 -261px repeat-x;border:none;color:#000;cursor:pointer;height:30px;margin:0;outline:0;font:15px arial,sans-serif;vertical-align:top}.lsb:active{background:#ccc}.lst:focus{outline:none}</style><script nonce=\"OCO6AdzquWbCtZZBzmIdSA==\"></script></head><body bgcolor=\"#fff\"><script nonce=\"OCO6AdzquWbCtZZBzmIdSA==\">(function(){var src=\\'/images/nav_logo229.png\\';var iesg=false;document.body.onload = function(){window.n && window.n();if (document.images){new Image().src=src;}\\nif (!iesg){document.f&&document.f.q.focus();document.gbqf&&document.gbqf.q.focus();}\\n}\\n})();</script><div id=\"mngb\"><div id=gbar><nobr><b class=gb1>B\\xfasqueda</b> <a class=gb1 href=\"http://www.google.es/imghp?hl=es&tab=wi\">Im\\xe1genes</a> <a class=gb1 href=\"http://maps.google.es/maps?hl=es&tab=wl\">Maps</a> <a class=gb1 href=\"https://play.google.com/?hl=es&tab=w8\">Play</a> <a class=gb1 href=\"http://www.youtube.com/?gl=ES&tab=w1\">YouTube</a> <a class=gb1 href=\"https://news.google.com/?tab=wn\">Noticias</a> <a class=gb1 href=\"https://mail.google.com/mail/?tab=wm\">Gmail</a> <a class=gb1 href=\"https://drive.google.com/?tab=wo\">Drive</a> <a class=gb1 style=\"text-decoration:none\" href=\"https://www.google.es/intl/es/about/products?tab=wh\"><u>M\\xe1s</u> &raquo;</a></nobr></div><div id=guser width=100%><nobr><span id=gbn class=gbi></span><span id=gbf class=gbf></span><span id=gbe></span><a href=\"http://www.google.es/history/optout?hl=es\" class=gb4>Historial web</a> | <a  href=\"/preferences?hl=es\" class=gb4>Ajustes</a> | <a target=_top id=gb_70 href=\"https://accounts.google.com/ServiceLogin?hl=es&passive=true&continue=http://www.google.com/&ec=%0000000\" class=gb4>Iniciar sesi\\xf3n</a></nobr></div><div class=gbh style=left:0></div><div class=gbh style=right:0></div></div><center><br clear=\"all\" id=\"lgpd\"><div id=\"lga\"><img alt=\"Google\" height=\"92\" src=\"/images/branding/googlelogo/1x/googlelogo_white_background_color_272x92dp.png\" style=\"padding:28px 0 14px\" width=\"272\" id=\"hplogo\"><br><br></div><form action=\"/search\" name=\"f\"><table cellpadding=\"0\" cellspacing=\"0\"><tr valign=\"top\"><td width=\"25%\">&nbsp;</td><td align=\"center\" nowrap=\"\"><input name=\"ie\" value=\"ISO-8859-1\" type=\"hidden\"><input value=\"es\" name=\"hl\" type=\"hidden\"><input name=\"source\" type=\"hidden\" value=\"hp\"><input name=\"biw\" type=\"hidden\"><input name=\"bih\" type=\"hidden\"><div class=\"ds\" style=\"height:32px;margin:4px 0\"><input class=\"lst\" style=\"margin:0;padding:5px 8px 0 6px;vertical-align:top;color:#000\" autocomplete=\"off\" value=\"\" title=\"Buscar con Google\" maxlength=\"2048\" name=\"q\" size=\"57\"></div><br style=\"line-height:0\"><span class=\"ds\"><span class=\"lsbb\"><input class=\"lsb\" value=\"Buscar con Google\" name=\"btnG\" type=\"submit\"></span></span><span class=\"ds\"><span class=\"lsbb\"><input class=\"lsb\" id=\"tsuid1\" value=\"Voy a tener suerte\" name=\"btnI\" type=\"submit\"><script nonce=\"OCO6AdzquWbCtZZBzmIdSA==\">(function(){var id=\\'tsuid1\\';document.getElementById(id).onclick = function(){if (this.form.q.value){this.checked = 1;if (this.form.iflsig)this.form.iflsig.disabled = false;}\\nelse top.location=\\'/doodles/\\';};})();</script><input value=\"AINFCbYAAAAAX0JPGELltDmbU2JXH7TinC3LLAdBjkgu\" name=\"iflsig\" type=\"hidden\"></span></span></td><td class=\"fl sblc\" align=\"left\" nowrap=\"\" width=\"25%\"><a href=\"/advanced_search?hl=es&amp;authuser=0\">B\\xfasqueda avanzada</a></td></tr></table><input id=\"gbv\" name=\"gbv\" type=\"hidden\" value=\"1\"><script nonce=\"OCO6AdzquWbCtZZBzmIdSA==\">(function(){var a,b=\"1\";if(document&&document.getElementById)if(\"undefined\"!=typeof XMLHttpRequest)b=\"2\";else if(\"undefined\"!=typeof ActiveXObject){var c,d,e=[\"MSXML2.XMLHTTP.6.0\",\"MSXML2.XMLHTTP.3.0\",\"MSXML2.XMLHTTP\",\"Microsoft.XMLHTTP\"];for(c=0;d=e[c++];)try{new ActiveXObject(d),b=\"2\"}catch(h){}}a=b;if(\"2\"==a&&-1==location.search.indexOf(\"&gbv=2\")){var f=google.gbvu,g=document.getElementById(\"gbv\");g&&(g.value=a);f&&window.setTimeout(function(){location.href=f},0)};}).call(this);</script></form><div id=\"gac_scont\"></div><div style=\"font-size:83%;min-height:3.5em\"><br><div id=\"gws-output-pages-elements-homepage_additional_languages__als\"><style>#gws-output-pages-elements-homepage_additional_languages__als{font-size:small;margin-bottom:24px}#SIvCob{display:inline-block;line-height:28px;}#SIvCob a{padding:0 3px;}.H6sW5{display:inline-block;margin:0 2px;white-space:nowrap}.z4hgWe{display:inline-block;margin:0 2px}</style><div id=\"SIvCob\">Ofrecido por Google en:  <a href=\"http://www.google.com/setprefs?sig=0_O_OhoAk3NJ1NkzRnzO07XCeL1Qs%3D&amp;hl=ca&amp;source=homepage&amp;sa=X&amp;ved=0ahUKEwicnL-mi7HrAhWLHRQKHcNLAzMQ2ZgBCAU\">catal\\xe0</a>    <a href=\"http://www.google.com/setprefs?sig=0_O_OhoAk3NJ1NkzRnzO07XCeL1Qs%3D&amp;hl=gl&amp;source=homepage&amp;sa=X&amp;ved=0ahUKEwicnL-mi7HrAhWLHRQKHcNLAzMQ2ZgBCAY\">galego</a>    <a href=\"http://www.google.com/setprefs?sig=0_O_OhoAk3NJ1NkzRnzO07XCeL1Qs%3D&amp;hl=eu&amp;source=homepage&amp;sa=X&amp;ved=0ahUKEwicnL-mi7HrAhWLHRQKHcNLAzMQ2ZgBCAc\">euskara</a>  </div></div></div><span id=\"footer\"><div style=\"font-size:10pt\"><div style=\"margin:19px auto;text-align:center\" id=\"fll\"><a href=\"/intl/es/ads/\">Programas de publicidad</a><a href=\"http://www.google.es/intl/es/services/\">Soluciones Empresariales</a><a href=\"/intl/es/about.html\">Todo acerca de Google</a><a href=\"http://www.google.com/setprefdomain?prefdom=ES&amp;prev=http://www.google.es/&amp;sig=K_ldmYE1yCeng5rZTZXfdHVRqnAEw%3D\">Google.es</a></div></div><p style=\"font-size:8pt;color:#767676\">&copy; 2020 - <a href=\"/intl/es/policies/privacy/\">Privacidad</a> - <a href=\"/intl/es/policies/terms/\">T\\xe9rminos</a></p></span></center><script nonce=\"OCO6AdzquWbCtZZBzmIdSA==\">(function(){window.google.cdo={height:0,width:0};(function(){var a=window.innerWidth,b=window.innerHeight;if(!a||!b){var c=window.document,d=\"CSS1Compat\"==c.compatMode?c.documentElement:c.body;a=d.clientWidth;b=d.clientHeight}a&&b&&(a!=google.cdo.width||b!=google.cdo.height)&&google.log(\"\",\"\",\"/client_204?&atyp=i&biw=\"+a+\"&bih=\"+b+\"&ei=\"+google.kEI);}).call(this);})();(function(){var u=\\'/xjs/_/js/k\\\\x3dxjs.hp.en.JEBLbdHGMZ4.O/m\\\\x3dsb_he,d/am\\\\x3dAJ5gcw/d\\\\x3d1/rs\\\\x3dACT90oE5v_LRqw1GtjavBuThAC7uj1vhog\\';\\nsetTimeout(function(){var b=document;var a=\"SCRIPT\";\"application/xhtml+xml\"===b.contentType&&(a=a.toLowerCase());a=b.createElement(a);a.src=u;google.timers&&google.timers.load&&google.tick&&google.tick(\"load\",\"xjsls\");document.body.appendChild(a)},0);})();(function(){window.google.xjsu=\\'/xjs/_/js/k\\\\x3dxjs.hp.en.JEBLbdHGMZ4.O/m\\\\x3dsb_he,d/am\\\\x3dAJ5gcw/d\\\\x3d1/rs\\\\x3dACT90oE5v_LRqw1GtjavBuThAC7uj1vhog\\';})();function _DumpException(e){throw e;}\\nfunction _F_installCss(c){}\\n(function(){google.jl={dw:false,em:[],emw:false,lls:\\'default\\',pdt:0,snet:true,uwp:true};})();(function(){var pmc=\\'{\\\\x22d\\\\x22:{},\\\\x22sb_he\\\\x22:{\\\\x22agen\\\\x22:true,\\\\x22cgen\\\\x22:true,\\\\x22client\\\\x22:\\\\x22heirloom-hp\\\\x22,\\\\x22dh\\\\x22:true,\\\\x22dhqt\\\\x22:true,\\\\x22ds\\\\x22:\\\\x22\\\\x22,\\\\x22ffql\\\\x22:\\\\x22es\\\\x22,\\\\x22fl\\\\x22:true,\\\\x22host\\\\x22:\\\\x22google.com\\\\x22,\\\\x22isbh\\\\x22:28,\\\\x22jsonp\\\\x22:true,\\\\x22lm\\\\x22:true,\\\\x22msgs\\\\x22:{\\\\x22cibl\\\\x22:\\\\x22Borrar b\\xfasqueda\\\\x22,\\\\x22dym\\\\x22:\\\\x22Quiz\\xe1s quisiste decir:\\\\x22,\\\\x22lcky\\\\x22:\\\\x22Voy a tener suerte\\\\x22,\\\\x22lml\\\\x22:\\\\x22M\\xe1s informaci\\xf3n\\\\x22,\\\\x22oskt\\\\x22:\\\\x22Herramientas de introducci\\xf3n de texto\\\\x22,\\\\x22psrc\\\\x22:\\\\x22Esta b\\xfasqueda se ha eliminado de tu \\\\\\\\u003Ca href\\\\x3d\\\\\\\\\\\\x22/history\\\\\\\\\\\\x22\\\\\\\\u003Ehistorial web\\\\\\\\u003C/a\\\\\\\\u003E.\\\\x22,\\\\x22psrl\\\\x22:\\\\x22Eliminar\\\\x22,\\\\x22sbit\\\\x22:\\\\x22Buscar por imagen\\\\x22,\\\\x22srch\\\\x22:\\\\x22Buscar con Google\\\\x22},\\\\x22ovr\\\\x22:{},\\\\x22pq\\\\x22:\\\\x22\\\\x22,\\\\x22refpd\\\\x22:true,\\\\x22rfs\\\\x22:[],\\\\x22sbpl\\\\x22:16,\\\\x22sbpr\\\\x22:16,\\\\x22scd\\\\x22:10,\\\\x22stok\\\\x22:\\\\x229DfYl-7hXRpUVP427hos5eOEvys\\\\x22,\\\\x22uhde\\\\x22:false}}\\';google.pmc=JSON.parse(pmc);})();</script>        </body></html>'\n"
     ]
    }
   ],
   "source": [
    "def main():\n",
    "    webUrl = urllib.request.urlopen(\"http://www.google.com\")\n",
    "    print (\"result code: \" + str(webUrl.getcode()) + \"\\n\")\n",
    "    \n",
    "    data = webUrl.read()\n",
    "    print (data)\n",
    "\n",
    "if __name__ == \"__main__\":\n",
    "    main()"
   ]
  },
  {
   "cell_type": "markdown",
   "metadata": {},
   "source": [
    "### Working with JSON data"
   ]
  },
  {
   "cell_type": "code",
   "execution_count": 3,
   "metadata": {},
   "outputs": [],
   "source": [
    "import json"
   ]
  },
  {
   "cell_type": "code",
   "execution_count": 5,
   "metadata": {},
   "outputs": [],
   "source": [
    "# define a variable to hold the source URL\n",
    "# i.e. the free data feed from the USGS, this feed lists all earthquakes for the last day larger than Mag 2.5\n",
    "urlData = \"http://earthquake.usgs.gov/earthquakes/feed/v1.0/summary/2.5_day.geojson\""
   ]
  },
  {
   "cell_type": "code",
   "execution_count": 7,
   "metadata": {},
   "outputs": [
    {
     "name": "stdout",
     "output_type": "stream",
     "text": [
      "result code: 200\n"
     ]
    }
   ],
   "source": [
    "# Open the URL and read the data\n",
    "webUrl = urllib.request.urlopen(urlData)\n",
    "print (\"result code: \" + str(webUrl.getcode()))\n",
    "if (webUrl.getcode() == 200):\n",
    "    data = webUrl.read()\n",
    "else:\n",
    "    print (\"Received an error from server, cannot retrieve results \" + str(webUrl.getcode()))"
   ]
  },
  {
   "cell_type": "code",
   "execution_count": 8,
   "metadata": {},
   "outputs": [],
   "source": [
    "# Use the json module to load the string data into a dictionary\n",
    "theJSON = json.loads(data)"
   ]
  },
  {
   "cell_type": "code",
   "execution_count": 9,
   "metadata": {},
   "outputs": [
    {
     "name": "stdout",
     "output_type": "stream",
     "text": [
      "USGS Magnitude 2.5+ Earthquakes, Past Day\n"
     ]
    }
   ],
   "source": [
    "# now we can access the contents of the JSON like any other Python object\n",
    "if \"title\" in theJSON[\"metadata\"]:\n",
    "    print (theJSON[\"metadata\"][\"title\"])"
   ]
  },
  {
   "cell_type": "code",
   "execution_count": 10,
   "metadata": {},
   "outputs": [
    {
     "name": "stdout",
     "output_type": "stream",
     "text": [
      "41 events recorded\n"
     ]
    }
   ],
   "source": [
    "# output the number of events, plus the magnitude and each event name  \n",
    "count = theJSON[\"metadata\"][\"count\"];\n",
    "print (str(count) + \" events recorded\")"
   ]
  },
  {
   "cell_type": "code",
   "execution_count": 11,
   "metadata": {},
   "outputs": [
    {
     "name": "stdout",
     "output_type": "stream",
     "text": [
      "268 km ENE of Tairua, New Zealand\n",
      "193 km WNW of Panguna, Papua New Guinea\n",
      "36 km NW of Stanley, Idaho\n",
      "53 km SE of Iquique, Chile\n",
      "45 km NW of Mosquito Lake, Alaska\n",
      "288 km WSW of Tual, Indonesia\n",
      "48 km E of Farkhār, Afghanistan\n",
      "96 km S of Charters Towers, Australia\n",
      "63 km W of Nanwalek, Alaska\n",
      "126 km SE of Perryville, Alaska\n",
      "100 km N of Karluk, Alaska\n",
      "98 km SSW of Nikolski, Alaska\n",
      "44km W of Ferndale, CA\n",
      "1 km ENE of Milagro, Ecuador\n",
      "54 km NNE of Kobuk, Alaska\n",
      "52 km SSE of Sand Point, Alaska\n",
      "17 km ESE of Puente Alto, Chile\n",
      "289 km WNW of Haveluloto, Tonga\n",
      "37 km WNW of Nanwalek, Alaska\n",
      "104 km S of Puerto El Triunfo, El Salvador\n",
      "4 km SE of Maria Antonia, Puerto Rico\n",
      "87 km E of Petropavlovsk-Kamchatsky, Russia\n",
      "72km E of Maneadero, B.C., MX\n",
      "8 km SW of Guánica, Puerto Rico\n",
      "104 km NNE of Bandar Abbas, Iran\n",
      "91 km SSW of Sand Point, Alaska\n",
      "53 km E of Juneau, Alaska\n",
      "Pagan region, Northern Mariana Islands\n",
      "56 km E of Juneau, Alaska\n",
      "21 km SSE of Minto, Alaska\n",
      "20km ESE of Little Lake, CA\n",
      "5 km SSE of Poth, Texas\n",
      "22 km SSE of Minto, Alaska\n",
      "3 km SSW of Indios, Puerto Rico\n",
      "south of the Fiji Islands\n",
      "34 km SE of Mina, Nevada\n",
      "5 km WSW of Guánica, Puerto Rico\n",
      "58 km E of Juneau, Alaska\n",
      "11km NNW of Redwood Valley, CA\n",
      "Izu Islands, Japan region\n",
      "179 km ENE of Georgetown, Saint Helena\n",
      "--------------\n",
      "\n"
     ]
    }
   ],
   "source": [
    "# for each event, print the place where it occurred\n",
    "for i in theJSON[\"features\"]:\n",
    "    print (i[\"properties\"][\"place\"])\n",
    "print (\"--------------\\n\")"
   ]
  },
  {
   "cell_type": "code",
   "execution_count": 12,
   "metadata": {},
   "outputs": [
    {
     "name": "stdout",
     "output_type": "stream",
     "text": [
      "4.6 268 km ENE of Tairua, New Zealand\n",
      "4.8 193 km WNW of Panguna, Papua New Guinea\n",
      "4.2 288 km WSW of Tual, Indonesia\n",
      "4.3 48 km E of Farkhār, Afghanistan\n",
      "4.7 96 km S of Charters Towers, Australia\n",
      "4.0 126 km SE of Perryville, Alaska\n",
      "4.9 98 km SSW of Nikolski, Alaska\n",
      "4.3 1 km ENE of Milagro, Ecuador\n",
      "4.2 17 km ESE of Puente Alto, Chile\n",
      "4.4 289 km WNW of Haveluloto, Tonga\n",
      "4.7 104 km S of Puerto El Triunfo, El Salvador\n",
      "4.2 87 km E of Petropavlovsk-Kamchatsky, Russia\n",
      "4.0 104 km NNE of Bandar Abbas, Iran\n",
      "5.0 Pagan region, Northern Mariana Islands\n",
      "4.6 south of the Fiji Islands\n",
      "5.3 Izu Islands, Japan region\n",
      "5.4 179 km ENE of Georgetown, Saint Helena\n",
      "--------------\n",
      "\n"
     ]
    }
   ],
   "source": [
    "# print the events that only have a magnitude greater than 4\n",
    "for i in theJSON[\"features\"]:\n",
    "    if i[\"properties\"][\"mag\"] >= 4.0:\n",
    "        print (\"%2.1f\" % i[\"properties\"][\"mag\"], i[\"properties\"][\"place\"])\n",
    "print (\"--------------\\n\")"
   ]
  },
  {
   "cell_type": "code",
   "execution_count": 15,
   "metadata": {},
   "outputs": [
    {
     "name": "stdout",
     "output_type": "stream",
     "text": [
      "\n",
      "\n",
      "Events that were felt:\n",
      "3.3 36 km NW of Stanley, Idaho  reported 2 times\n",
      "3.9 53 km SE of Iquique, Chile  reported 12 times\n",
      "3.6 45 km NW of Mosquito Lake, Alaska  reported 4 times\n",
      "4.7 96 km S of Charters Towers, Australia  reported 34 times\n",
      "3.8 63 km W of Nanwalek, Alaska  reported 2 times\n",
      "3.9 37 km WNW of Nanwalek, Alaska  reported 2 times\n",
      "2.7 4 km SE of Maria Antonia, Puerto Rico  reported 1 times\n",
      "2.9 21 km SSE of Minto, Alaska  reported 4 times\n",
      "2.9 20km ESE of Little Lake, CA  reported 2 times\n",
      "2.8 22 km SSE of Minto, Alaska  reported 2 times\n",
      "3.4 3 km SSW of Indios, Puerto Rico  reported 28 times\n",
      "2.6 11km NNW of Redwood Valley, CA  reported 3 times\n"
     ]
    }
   ],
   "source": [
    "# print only the events where at least 1 person reported feeling something\n",
    "print (\"\\n\\nEvents that were felt:\")\n",
    "for i in theJSON[\"features\"]:\n",
    "    feltReports = i[\"properties\"][\"felt\"]\n",
    "    if (feltReports != None):\n",
    "        if (feltReports > 0):\n",
    "            print (\"%2.1f\" % i[\"properties\"][\"mag\"], i[\"properties\"][\"place\"], \" reported \" + str(feltReports) + \" times\")"
   ]
  },
  {
   "cell_type": "markdown",
   "metadata": {},
   "source": [
    "### Parsing and processing HTML"
   ]
  },
  {
   "cell_type": "code",
   "execution_count": 16,
   "metadata": {},
   "outputs": [],
   "source": [
    "from html.parser import HTMLParser\n",
    "\n",
    "metacount = 0;"
   ]
  },
  {
   "cell_type": "code",
   "execution_count": 22,
   "metadata": {},
   "outputs": [
    {
     "name": "stdout",
     "output_type": "stream",
     "text": [
      "Encountered a start tag: html\n",
      "\tAt line:  2  position  0\n",
      "\tAttributes:\n",
      "\t lang = en\n",
      "Encountered a start tag: head\n",
      "\tAt line:  3  position  2\n",
      "Encountered a start tag: meta\n",
      "\tAt line:  4  position  4\n",
      "\tAttributes:\n",
      "\t charset = utf-8\n",
      "Encountered an end tag: meta\n",
      "\tAt line:  4  position  4\n",
      "Encountered a start tag: title\n",
      "\tAt line:  5  position  4\n",
      "Encountered some text data: Sample HTML Document\n",
      "\tAt line:  5  position  11\n",
      "Encountered an end tag: title\n",
      "\tAt line:  5  position  31\n",
      "Encountered a start tag: meta\n",
      "\tAt line:  6  position  4\n",
      "\tAttributes:\n",
      "\t name = description\n",
      "\t content = This is a sample HTML file\n",
      "Encountered an end tag: meta\n",
      "\tAt line:  6  position  4\n",
      "Encountered a start tag: meta\n",
      "\tAt line:  7  position  4\n",
      "\tAttributes:\n",
      "\t name = author\n",
      "\t content = Administrator\n",
      "Encountered an end tag: meta\n",
      "\tAt line:  7  position  4\n",
      "Encountered a start tag: meta\n",
      "\tAt line:  8  position  4\n",
      "\tAttributes:\n",
      "\t name = viewport\n",
      "\t content = width=device-width; initial-scale=1.0\n",
      "Encountered an end tag: meta\n",
      "\tAt line:  8  position  4\n",
      "Encountered comment:  Replace favicon.ico & apple-touch-icon.png in the root of your domain and delete these references \n",
      "\tAt line:  9  position  4\n",
      "Encountered a start tag: link\n",
      "\tAt line:  10  position  4\n",
      "\tAttributes:\n",
      "\t rel = shortcut icon\n",
      "\t href = /favicon.ico\n",
      "Encountered an end tag: link\n",
      "\tAt line:  10  position  4\n",
      "Encountered a start tag: link\n",
      "\tAt line:  11  position  4\n",
      "\tAttributes:\n",
      "\t rel = apple-touch-icon\n",
      "\t href = /apple-touch-icon.png\n",
      "Encountered an end tag: link\n",
      "\tAt line:  11  position  4\n",
      "Encountered an end tag: head\n",
      "\tAt line:  12  position  2\n",
      "Encountered a start tag: body\n",
      "\tAt line:  14  position  2\n",
      "Encountered a start tag: div\n",
      "\tAt line:  15  position  4\n",
      "Encountered a start tag: header\n",
      "\tAt line:  16  position  6\n",
      "Encountered a start tag: h1\n",
      "\tAt line:  17  position  8\n",
      "Encountered some text data: HTML Sample File\n",
      "\tAt line:  17  position  12\n",
      "Encountered an end tag: h1\n",
      "\tAt line:  17  position  28\n",
      "Encountered an end tag: header\n",
      "\tAt line:  18  position  6\n",
      "Encountered a start tag: nav\n",
      "\tAt line:  19  position  6\n",
      "Encountered a start tag: p\n",
      "\tAt line:  20  position  8\n",
      "Encountered a start tag: a\n",
      "\tAt line:  21  position  10\n",
      "\tAttributes:\n",
      "\t href = /\n",
      "Encountered some text data: Home\n",
      "\tAt line:  21  position  22\n",
      "Encountered an end tag: a\n",
      "\tAt line:  21  position  26\n",
      "Encountered an end tag: p\n",
      "\tAt line:  22  position  8\n",
      "Encountered a start tag: p\n",
      "\tAt line:  23  position  8\n",
      "Encountered a start tag: a\n",
      "\tAt line:  24  position  10\n",
      "\tAttributes:\n",
      "\t href = /contact\n",
      "Encountered some text data: Contact\n",
      "\tAt line:  24  position  29\n",
      "Encountered an end tag: a\n",
      "\tAt line:  24  position  36\n",
      "Encountered an end tag: p\n",
      "\tAt line:  25  position  8\n",
      "Encountered an end tag: nav\n",
      "\tAt line:  26  position  6\n",
      "Encountered a start tag: div\n",
      "\tAt line:  27  position  6\n",
      "Encountered an end tag: div\n",
      "\tAt line:  29  position  6\n",
      "Encountered a start tag: footer\n",
      "\tAt line:  30  position  6\n",
      "Encountered a start tag: p\n",
      "\tAt line:  31  position  8\n",
      "Encountered some text data: © Copyright by Administrator\n",
      "\tAt line:  31  position  11\n",
      "Encountered an end tag: p\n",
      "\tAt line:  31  position  44\n",
      "Encountered an end tag: footer\n",
      "\tAt line:  32  position  6\n",
      "Encountered an end tag: div\n",
      "\tAt line:  33  position  4\n",
      "Encountered an end tag: body\n",
      "\tAt line:  34  position  2\n",
      "Encountered an end tag: html\n",
      "\tAt line:  35  position  0\n",
      "4 meta tags encountered\n"
     ]
    }
   ],
   "source": [
    "class MyHTMLParser(HTMLParser):\n",
    "  # function to handle an opening tag in the doc\n",
    "  # this will be called when the closing \">\" of the tag is reached\n",
    "    def handle_starttag(self, tag, attrs):\n",
    "        global metacount\n",
    "        if tag == \"meta\":\n",
    "            metacount += 1\n",
    "\n",
    "        print (\"Encountered a start tag:\", tag)\n",
    "        pos = self.getpos() # returns a tuple indication line and character\n",
    "        print (\"\\tAt line: \", pos[0], \" position \", pos[1])\n",
    "\n",
    "        if attrs.__len__() > 0:\n",
    "            print (\"\\tAttributes:\")\n",
    "            for a in attrs:\n",
    "                print (\"\\t\", a[0],\"=\",a[1])\n",
    "      \n",
    "  # function to handle the ending tag\n",
    "    def handle_endtag(self, tag):\n",
    "        print (\"Encountered an end tag:\", tag)\n",
    "        pos = self.getpos()\n",
    "        print (\"\\tAt line: \", pos[0], \" position \", pos[1])\n",
    "    \n",
    "  # function to handle character and text data (tag contents)\n",
    "    def handle_data(self, data):\n",
    "        if (data.isspace()):\n",
    "            return\n",
    "        print (\"Encountered some text data:\", data)\n",
    "        pos = self.getpos()\n",
    "        print (\"\\tAt line: \", pos[0], \" position \", pos[1])\n",
    "  \n",
    "  # function to handle the processing of HTML comments\n",
    "    def handle_comment(self, data):\n",
    "        print (\"Encountered comment:\", data)\n",
    "        pos = self.getpos()\n",
    "        print (\"\\tAt line: \", pos[0], \" position \", pos[1])\n",
    "\n",
    "def main():\n",
    "  # instantiate the parser and feed it some HTML\n",
    "    parser = MyHTMLParser()\n",
    "    \n",
    "  # open the sample HTML file and read it\n",
    "    f = open(\"samplehtml.html\")\n",
    "    if f.mode == \"r\":\n",
    "        contents = f.read() # read the entire file\n",
    "        parser.feed(contents)\n",
    "  \n",
    "    print (\"%d meta tags encountered\" % metacount)\n",
    "\n",
    "if __name__ == \"__main__\":\n",
    "    main();"
   ]
  },
  {
   "cell_type": "markdown",
   "metadata": {},
   "source": [
    "### Manipulating XML"
   ]
  },
  {
   "cell_type": "code",
   "execution_count": 23,
   "metadata": {},
   "outputs": [],
   "source": [
    "import xml.dom.minidom"
   ]
  },
  {
   "cell_type": "code",
   "execution_count": 24,
   "metadata": {},
   "outputs": [],
   "source": [
    "# use the parse() function to load and parse an XML file\n",
    "doc = xml.dom.minidom.parse(\"samplexml.xml\")"
   ]
  },
  {
   "cell_type": "code",
   "execution_count": 25,
   "metadata": {},
   "outputs": [
    {
     "name": "stdout",
     "output_type": "stream",
     "text": [
      "#document\n",
      "person\n"
     ]
    }
   ],
   "source": [
    "# print out the document node and the name of the first child tag\n",
    "print (doc.nodeName)\n",
    "print (doc.firstChild.tagName)"
   ]
  },
  {
   "cell_type": "code",
   "execution_count": 26,
   "metadata": {},
   "outputs": [
    {
     "name": "stdout",
     "output_type": "stream",
     "text": [
      "4 skills:\n",
      "JavaScript\n",
      "Python\n",
      "C#\n",
      "HTML\n"
     ]
    }
   ],
   "source": [
    "# get a list of XML tags from the document and print each one\n",
    "skills = doc.getElementsByTagName(\"skill\")\n",
    "print (\"%d skills:\" % skills.length)\n",
    "for skill in skills:\n",
    "    print (skill.getAttribute(\"name\"))"
   ]
  },
  {
   "cell_type": "code",
   "execution_count": 27,
   "metadata": {},
   "outputs": [
    {
     "data": {
      "text/plain": [
       "<DOM Element: skill at 0x1d4f7384868>"
      ]
     },
     "execution_count": 27,
     "metadata": {},
     "output_type": "execute_result"
    }
   ],
   "source": [
    "# create a new XML tag and add it into the document\n",
    "newSkill = doc.createElement(\"skill\")\n",
    "newSkill.setAttribute(\"name\", \"jQuery\")\n",
    "doc.firstChild.appendChild(newSkill)"
   ]
  },
  {
   "cell_type": "code",
   "execution_count": 28,
   "metadata": {},
   "outputs": [
    {
     "name": "stdout",
     "output_type": "stream",
     "text": [
      "5 skills:\n",
      "JavaScript\n",
      "Python\n",
      "C#\n",
      "HTML\n",
      "jQuery\n"
     ]
    }
   ],
   "source": [
    "skills = doc.getElementsByTagName(\"skill\")\n",
    "print (\"%d skills:\" % skills.length)\n",
    "for skill in skills:\n",
    "    print (skill.getAttribute(\"name\"))"
   ]
  }
 ],
 "metadata": {
  "kernelspec": {
   "display_name": "Python 3",
   "language": "python",
   "name": "python3"
  },
  "language_info": {
   "codemirror_mode": {
    "name": "ipython",
    "version": 3
   },
   "file_extension": ".py",
   "mimetype": "text/x-python",
   "name": "python",
   "nbconvert_exporter": "python",
   "pygments_lexer": "ipython3",
   "version": "3.7.6"
  }
 },
 "nbformat": 4,
 "nbformat_minor": 4
}
